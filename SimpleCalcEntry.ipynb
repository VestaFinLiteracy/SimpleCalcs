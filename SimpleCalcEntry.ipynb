{
 "cells": [
  {
   "cell_type": "code",
   "execution_count": 1,
   "metadata": {},
   "outputs": [],
   "source": [
    "import ipywidgets as widgets\n",
    "from IPython.display import display, clear_output, Image\n",
    "\n",
    "Data_out = widgets.Output()"
   ]
  },
  {
   "cell_type": "code",
   "execution_count": 2,
   "metadata": {},
   "outputs": [],
   "source": [
    "def updateGraph(*args):\n",
    "    Cost = CostField.value\n",
    "    Months = MonthsField.value\n",
    "    Down = DownField.value\n",
    "    \n",
    "    Pmt = (Cost - Down)/Months\n",
    "    \n",
    "    with Data_out:\n",
    "        clear_output()\n",
    "        print( 'Your Monthly Payment is: $' + \"{:.2f}\".format(Pmt))"
   ]
  },
  {
   "cell_type": "code",
   "execution_count": 8,
   "metadata": {},
   "outputs": [],
   "source": [
    "\n",
    "CostField = widgets.IntText(style=dict(description_width='initial'),\n",
    "    value=5000,\n",
    "    disabled=False,\n",
    "    description='Treatment Cost')\n",
    "MonthsField = widgets.IntText(style=dict(description_width='initial'),\n",
    "    value=1,\n",
    "    disabled=False,\n",
    "    description='Months ')\n",
    "DownField = widgets.IntText(style=dict(description_width='initial'),\n",
    "    value=0,\n",
    "    disabled=False,\n",
    "    description='Down Payment')\n",
    "\n",
    "button_calc = widgets.Button(description=\"Calculate\")"
   ]
  },
  {
   "cell_type": "code",
   "execution_count": 9,
   "metadata": {},
   "outputs": [],
   "source": [
    "#Cost.observe(updateGraph,'value')\n",
    "#Years.observe(updateGraph,'value')\n",
    "#Down.observe(updateGraph,'value')\n",
    "button_calc.on_click(updateGraph)"
   ]
  },
  {
   "cell_type": "code",
   "execution_count": 10,
   "metadata": {},
   "outputs": [
    {
     "data": {
      "text/html": [
       "<img src=\"https://d2l4d0j7rmjb0n.cloudfront.net/site/1389/seo/image.svg\"/>"
      ],
      "text/plain": [
       "<IPython.core.display.Image object>"
      ]
     },
     "execution_count": 10,
     "metadata": {},
     "output_type": "execute_result"
    }
   ],
   "source": [
    "Image(url = 'https://d2l4d0j7rmjb0n.cloudfront.net/site/1389/seo/image.svg')"
   ]
  },
  {
   "cell_type": "code",
   "execution_count": 11,
   "metadata": {},
   "outputs": [
    {
     "data": {
      "application/vnd.jupyter.widget-view+json": {
       "model_id": "c874968b64e04197b17ebf1790581550",
       "version_major": 2,
       "version_minor": 0
      },
      "text/plain": [
       "VBox(children=(IntText(value=5000, description='Treatment Cost', style=DescriptionStyle(description_width='ini…"
      ]
     },
     "metadata": {},
     "output_type": "display_data"
    }
   ],
   "source": [
    "SpendDash = widgets.VBox([CostField,MonthsField,DownField, button_calc])\n",
    "display(SpendDash)"
   ]
  },
  {
   "cell_type": "code",
   "execution_count": 7,
   "metadata": {},
   "outputs": [
    {
     "data": {
      "application/vnd.jupyter.widget-view+json": {
       "model_id": "a71bec8d37674c5abb661e58424e8b02",
       "version_major": 2,
       "version_minor": 0
      },
      "text/plain": [
       "Output()"
      ]
     },
     "metadata": {},
     "output_type": "display_data"
    }
   ],
   "source": [
    "display(Data_out)"
   ]
  },
  {
   "cell_type": "code",
   "execution_count": null,
   "metadata": {},
   "outputs": [],
   "source": []
  }
 ],
 "metadata": {
  "kernelspec": {
   "display_name": "Python 3",
   "language": "python",
   "name": "python3"
  },
  "language_info": {
   "codemirror_mode": {
    "name": "ipython",
    "version": 3
   },
   "file_extension": ".py",
   "mimetype": "text/x-python",
   "name": "python",
   "nbconvert_exporter": "python",
   "pygments_lexer": "ipython3",
   "version": "3.7.4"
  }
 },
 "nbformat": 4,
 "nbformat_minor": 4
}
