{
 "cells": [
  {
   "cell_type": "code",
   "execution_count": 35,
   "metadata": {},
   "outputs": [],
   "source": [
    "import ipywidgets as widgets\n",
    "from IPython.display import display, clear_output\n",
    "\n",
    "Data_out = widgets.Output()"
   ]
  },
  {
   "cell_type": "code",
   "execution_count": 62,
   "metadata": {},
   "outputs": [],
   "source": [
    "def updateGraph(*args):\n",
    "    Cost = CostSlider.value\n",
    "    Months = YearsSlider.value\n",
    "    Down = DownSlider.value\n",
    "    \n",
    "    Pmt = (Cost - Down)/Months\n",
    "    \n",
    "    with Data_out:\n",
    "        clear_output()\n",
    "        print( 'Your Monthly Payment is: $' + \"{:.2f}\".format(Pmt))"
   ]
  },
  {
   "cell_type": "code",
   "execution_count": 63,
   "metadata": {},
   "outputs": [],
   "source": [
    "\n",
    "CostSlider = widgets.IntSlider(style=dict(description_width='initial'),\n",
    "    value= 5000,\n",
    "    min=0,\n",
    "    max=15000,\n",
    "    step=500,\n",
    "    description='Treatment Cost')\n",
    "YearsSlider = widgets.IntSlider(value=0.06,\n",
    "    min=0,\n",
    "    max=120,\n",
    "    step=1,\n",
    "    description='Months ')\n",
    "DownSlider = widgets.IntSlider(style=dict(description_width='initial'),\n",
    "    value=0.0,\n",
    "    min=0,\n",
    "    max=15000,\n",
    "    step=500,\n",
    "    description='Down Payment')\n",
    "\n",
    "button_calc = widgets.Button(description=\"Calculate\")"
   ]
  },
  {
   "cell_type": "code",
   "execution_count": 64,
   "metadata": {},
   "outputs": [],
   "source": [
    "#CostSlider.observe(updateGraph,'value')\n",
    "#YearsSlider.observe(updateGraph,'value')\n",
    "#DownSlider.observe(updateGraph,'value')\n",
    "button_calc.on_click(updateGraph)"
   ]
  },
  {
   "cell_type": "code",
   "execution_count": 65,
   "metadata": {},
   "outputs": [
    {
     "data": {
      "application/vnd.jupyter.widget-view+json": {
       "model_id": "e8a7c8de17e146169e503d5fd9768db9",
       "version_major": 2,
       "version_minor": 0
      },
      "text/plain": [
       "VBox(children=(IntSlider(value=5000, description='Treatment Cost', max=15000, step=500, style=SliderStyle(desc…"
      ]
     },
     "metadata": {},
     "output_type": "display_data"
    }
   ],
   "source": [
    "SpendDash = widgets.VBox([CostSlider,YearsSlider,DownSlider, button_calc])\n",
    "display(SpendDash)"
   ]
  },
  {
   "cell_type": "code",
   "execution_count": 66,
   "metadata": {},
   "outputs": [
    {
     "data": {
      "application/vnd.jupyter.widget-view+json": {
       "model_id": "ba7b0e9a6e5c4467af9dc4d03cc48a69",
       "version_major": 2,
       "version_minor": 0
      },
      "text/plain": [
       "Output(outputs=({'name': 'stdout', 'text': 'Your Monthly Payment is: $66.66666666666667\\n', 'output_type': 'st…"
      ]
     },
     "metadata": {},
     "output_type": "display_data"
    }
   ],
   "source": [
    "display(Data_out)"
   ]
  },
  {
   "cell_type": "code",
   "execution_count": null,
   "metadata": {},
   "outputs": [],
   "source": []
  }
 ],
 "metadata": {
  "kernelspec": {
   "display_name": "Python 3",
   "language": "python",
   "name": "python3"
  },
  "language_info": {
   "codemirror_mode": {
    "name": "ipython",
    "version": 3
   },
   "file_extension": ".py",
   "mimetype": "text/x-python",
   "name": "python",
   "nbconvert_exporter": "python",
   "pygments_lexer": "ipython3",
   "version": "3.7.4"
  }
 },
 "nbformat": 4,
 "nbformat_minor": 4
}
